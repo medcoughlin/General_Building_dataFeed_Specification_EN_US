{
 "cells": [
  {
   "cell_type": "code",
   "execution_count": 111,
   "metadata": {},
   "outputs": [],
   "source": [
    "import pandas as pd\n",
    "import numpy as np\n",
    "import zipfile\n",
    "import matplotlib.pyplot as plt\n",
    "import math\n",
    "import re\n",
    "import datetime\n",
    "from shapely import wkt\n",
    "import urllib\n",
    "import json\n",
    "import csv\n",
    "import requests\n",
    "import jdc\n",
    "import geopandas as gpd"
   ]
  },
  {
   "attachments": {},
   "cell_type": "markdown",
   "metadata": {},
   "source": [
    "THE FOLLOWING IS THE ACTUAL SCHEMA, WHICH WILL BE DEFINED AS A SINGLE DEFINITION"
   ]
  },
  {
   "cell_type": "code",
   "execution_count": 157,
   "metadata": {},
   "outputs": [],
   "source": [
    "def tryParseWKT(x):\n",
    "    try:\n",
    "        return wkt.loads(x)\n",
    "    except:\n",
    "        return None\n",
    "\n",
    "def geometry(permits):\n",
    "    geom_count = 0\n",
    "    \n",
    "    for col in permits.columns:\n",
    "      if re.search('latitude|longitude|pointx|pointy', col, re.IGNORECASE):\n",
    "        geom_count = 0\n",
    "        break\n",
    "      else:\n",
    "        permits[col] = permits[col].astype(str)\n",
    "        if permits[col].str.contains('POINT \\(').any():\n",
    "          geom_count += 1\n",
    "          geo = col\n",
    "        else: continue\n",
    "    \n",
    "    if geom_count > 1:\n",
    "      raise ValueError('More than one POINT geometry column. Investigate.')\n",
    "\n",
    "    elif geom_count == 1:\n",
    "      permits = permits[permits[geo].notna()]\n",
    "      permits['geometry'] = permits[geo]\n",
    "    \n",
    "      permits['geometry'] = permits['geometry'].replace('nan',None)\n",
    "      permits['geometry'] = permits['geometry'].apply(lambda x: tryParseWKT(x))\n",
    "    \n",
    "      permits = gpd.GeoDataFrame(permits, geometry = permits['geometry'], crs=4326)\n",
    "      permits['Longitude'] = permits['geometry'].x\n",
    "      permits['Latitude'] = permits['geometry'].y\n",
    "\n",
    "    elif geom_count <= 0:\n",
    "      permits = permits \n",
    "  \n",
    "    return permits.head(1)"
   ]
  },
  {
   "cell_type": "code",
   "execution_count": 117,
   "metadata": {},
   "outputs": [],
   "source": [
    "austin = pd.DataFrame()\n",
    "chicago = pd.DataFrame()\n",
    "sanfran = pd.DataFrame()\n",
    "nyc = pd.DataFrame()\n",
    "\n",
    "urls = [\n",
    "    'https://data.austintexas.gov/resource/3syk-w9eu.csv?$limit=5000&$order=applieddate%20DESC&$where=' + urllib.parse.quote('applieddate IS NOT NULL'),\n",
    "    'https://data.cityofchicago.org/resource/ydr8-5enu.csv?$limit=5000&$order=application_start_date%20DESC&$where=' + urllib.parse.quote('application_start_date IS NOT NULL'),\n",
    "    'https://data.sfgov.org/resource/i98e-djp9.csv?$limit=500&$order=permit_creation_date%20DESC&$where=' + urllib.parse.quote('permit_creation_date IS NOT NULL'),\n",
    "    'https://data.cityofnewyork.us/resource/ipu4-2q9a.csv?$limit=500&$order=filing_date%20DESC&$where=' + urllib.parse.quote('filing_date IS NOT NULL'),\n",
    "]\n",
    "\n",
    "for url in urls:\n",
    "  if re.search('data.austintexas.gov', url):\n",
    "    austin = pd.read_csv(url)\n",
    "    austin.name = 'Austin'\n",
    "  elif re.search('data.cityofchicago.org', url):\n",
    "    chicago = pd.read_csv(url)\n",
    "    chicago.name = 'Chicago'\n",
    "  elif re.search('data.sfgov.org', url):\n",
    "    sanfran = pd.read_csv(url)\n",
    "    sanfran.name = 'San Francisco'\n",
    "  elif re.search('data.cityofnewyork.us', url):\n",
    "    nyc = pd.read_csv(url)\n",
    "    nyc.name = 'New York City'"
   ]
  },
  {
   "cell_type": "code",
   "execution_count": 153,
   "metadata": {},
   "outputs": [
    {
     "data": {
      "text/plain": [
       "475     TUCKPOINT (2000 SQ FT) ON EAST ELEVATION (no o...\n",
       "1256    TUCKPOINT (APPX 400 SQ FT) (NO STRUCTURAL WORK...\n",
       "3527    TUCKPOINT (APPX 500 SQ FT) AND LINTEL REPLACEM...\n",
       "Name: work_description, dtype: object"
      ]
     },
     "execution_count": 153,
     "metadata": {},
     "output_type": "execute_result"
    }
   ],
   "source": [
    "permits[permits.work_description.str.contains('POINT \\(')].work_description"
   ]
  },
  {
   "cell_type": "code",
   "execution_count": 158,
   "metadata": {},
   "outputs": [
    {
     "data": {
      "text/html": [
       "<div>\n",
       "<style scoped>\n",
       "    .dataframe tbody tr th:only-of-type {\n",
       "        vertical-align: middle;\n",
       "    }\n",
       "\n",
       "    .dataframe tbody tr th {\n",
       "        vertical-align: top;\n",
       "    }\n",
       "\n",
       "    .dataframe thead th {\n",
       "        text-align: right;\n",
       "    }\n",
       "</style>\n",
       "<table border=\"1\" class=\"dataframe\">\n",
       "  <thead>\n",
       "    <tr style=\"text-align: right;\">\n",
       "      <th></th>\n",
       "      <th>id</th>\n",
       "      <th>permit_</th>\n",
       "      <th>permit_type</th>\n",
       "      <th>review_type</th>\n",
       "      <th>application_start_date</th>\n",
       "      <th>issue_date</th>\n",
       "      <th>processing_time</th>\n",
       "      <th>street_number</th>\n",
       "      <th>street_direction</th>\n",
       "      <th>street_name</th>\n",
       "      <th>...</th>\n",
       "      <th>pin9</th>\n",
       "      <th>pin10</th>\n",
       "      <th>community_area</th>\n",
       "      <th>census_tract</th>\n",
       "      <th>ward</th>\n",
       "      <th>xcoordinate</th>\n",
       "      <th>ycoordinate</th>\n",
       "      <th>latitude</th>\n",
       "      <th>longitude</th>\n",
       "      <th>location</th>\n",
       "    </tr>\n",
       "  </thead>\n",
       "  <tbody>\n",
       "    <tr>\n",
       "      <th>0</th>\n",
       "      <td>3330765</td>\n",
       "      <td>101021961</td>\n",
       "      <td>PERMIT - EASY PERMIT PROCESS</td>\n",
       "      <td>EASY PERMIT WEB</td>\n",
       "      <td>2023-06-26T00:00:00.000</td>\n",
       "      <td>2023-06-26T00:00:00.000</td>\n",
       "      <td>0</td>\n",
       "      <td>5436</td>\n",
       "      <td>W</td>\n",
       "      <td>SCHOOL</td>\n",
       "      <td>...</td>\n",
       "      <td>nan</td>\n",
       "      <td>nan</td>\n",
       "      <td>15.0</td>\n",
       "      <td>151100.0</td>\n",
       "      <td>30.0</td>\n",
       "      <td>1139376.66557001</td>\n",
       "      <td>1921444.2054039924</td>\n",
       "      <td>41.940556</td>\n",
       "      <td>-87.763153</td>\n",
       "      <td>POINT (-87.763153195317 41.940555558327)</td>\n",
       "    </tr>\n",
       "  </tbody>\n",
       "</table>\n",
       "<p>1 rows × 119 columns</p>\n",
       "</div>"
      ],
      "text/plain": [
       "        id    permit_                   permit_type      review_type  \\\n",
       "0  3330765  101021961  PERMIT - EASY PERMIT PROCESS  EASY PERMIT WEB   \n",
       "\n",
       "    application_start_date               issue_date processing_time  \\\n",
       "0  2023-06-26T00:00:00.000  2023-06-26T00:00:00.000               0   \n",
       "\n",
       "  street_number street_direction street_name  ... pin9 pin10 community_area  \\\n",
       "0          5436                W      SCHOOL  ...  nan   nan           15.0   \n",
       "\n",
       "  census_tract  ward       xcoordinate         ycoordinate   latitude  \\\n",
       "0     151100.0  30.0  1139376.66557001  1921444.2054039924  41.940556   \n",
       "\n",
       "   longitude                                  location  \n",
       "0 -87.763153  POINT (-87.763153195317 41.940555558327)  \n",
       "\n",
       "[1 rows x 119 columns]"
      ]
     },
     "execution_count": 158,
     "metadata": {},
     "output_type": "execute_result"
    }
   ],
   "source": [
    "permits = chicago\n",
    "\n",
    "geometry(permits)"
   ]
  }
 ],
 "metadata": {
  "kernelspec": {
   "display_name": "geo_env",
   "language": "python",
   "name": "python3"
  },
  "language_info": {
   "codemirror_mode": {
    "name": "ipython",
    "version": 3
   },
   "file_extension": ".py",
   "mimetype": "text/x-python",
   "name": "python",
   "nbconvert_exporter": "python",
   "pygments_lexer": "ipython3",
   "version": "3.10.2"
  },
  "orig_nbformat": 4
 },
 "nbformat": 4,
 "nbformat_minor": 2
}
