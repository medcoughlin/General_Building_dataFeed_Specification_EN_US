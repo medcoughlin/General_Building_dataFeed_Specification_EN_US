{
 "cells": [
  {
   "cell_type": "code",
   "execution_count": 1,
   "metadata": {},
   "outputs": [],
   "source": [
    "import geopandas as gpd\n",
    "import pandas as pd"
   ]
  },
  {
   "cell_type": "code",
   "execution_count": 2,
   "metadata": {},
   "outputs": [],
   "source": [
    "import zipfile\n",
    "\n",
    "with zipfile.ZipFile(\"Boulder CO/Ownership_Parcels.zip\",\"r\") as zip_ref:\n",
    "    zip_ref.extractall()"
   ]
  },
  {
   "cell_type": "code",
   "execution_count": 5,
   "metadata": {},
   "outputs": [],
   "source": [
    "parcels = gpd.read_file('Ownership_Parcels.shp')"
   ]
  },
  {
   "cell_type": "code",
   "execution_count": 10,
   "metadata": {},
   "outputs": [
    {
     "data": {
      "text/html": [
       "<div>\n",
       "<style scoped>\n",
       "    .dataframe tbody tr th:only-of-type {\n",
       "        vertical-align: middle;\n",
       "    }\n",
       "\n",
       "    .dataframe tbody tr th {\n",
       "        vertical-align: top;\n",
       "    }\n",
       "\n",
       "    .dataframe thead th {\n",
       "        text-align: right;\n",
       "    }\n",
       "</style>\n",
       "<table border=\"1\" class=\"dataframe\">\n",
       "  <thead>\n",
       "    <tr style=\"text-align: right;\">\n",
       "      <th></th>\n",
       "      <th>OBJECTID</th>\n",
       "      <th>ACCOUNTNO</th>\n",
       "      <th>PARCELNUM</th>\n",
       "      <th>SITEADDRES</th>\n",
       "      <th>SITESTRNUM</th>\n",
       "      <th>SITESTREET</th>\n",
       "      <th>TOWNSHIP</th>\n",
       "      <th>geometry</th>\n",
       "    </tr>\n",
       "  </thead>\n",
       "  <tbody>\n",
       "    <tr>\n",
       "      <th>0</th>\n",
       "      <td>90440</td>\n",
       "      <td>2018005</td>\n",
       "      <td>146329241001</td>\n",
       "      <td>2635 MAPLETON AVE 34-B</td>\n",
       "      <td>2635.0</td>\n",
       "      <td>MAPLETON</td>\n",
       "      <td>1N</td>\n",
       "      <td>POLYGON ((-105.26057 40.02691, -105.26060 40.0...</td>\n",
       "    </tr>\n",
       "  </tbody>\n",
       "</table>\n",
       "</div>"
      ],
      "text/plain": [
       "   OBJECTID ACCOUNTNO     PARCELNUM              SITEADDRES  SITESTRNUM  \\\n",
       "0     90440   2018005  146329241001  2635 MAPLETON AVE 34-B      2635.0   \n",
       "\n",
       "  SITESTREET TOWNSHIP                                           geometry  \n",
       "0   MAPLETON       1N  POLYGON ((-105.26057 40.02691, -105.26060 40.0...  "
      ]
     },
     "execution_count": 10,
     "metadata": {},
     "output_type": "execute_result"
    }
   ],
   "source": [
    "parcels = parcels[['OBJECTID', 'ACCOUNTNO', 'PARCELNUM', 'SITEADDRES', 'SITESTRNUM',\n",
    "       'SITESTREET', 'TOWNSHIP', 'geometry']]\n",
    "parcels.head(1) #includes the ParcelNUM, which is the PIN in the construction permits file. And it has geometry (.shp file)"
   ]
  },
  {
   "cell_type": "code",
   "execution_count": 11,
   "metadata": {},
   "outputs": [
    {
     "name": "stderr",
     "output_type": "stream",
     "text": [
      "C:\\Users\\medco\\AppData\\Local\\Temp\\ipykernel_15764\\2587670223.py:1: DtypeWarning: Columns (10,11,31,32,33) have mixed types. Specify dtype option on import or set low_memory=False.\n",
      "  permits = pd.read_csv('Boulder CO/all_construction_permits.csv')\n"
     ]
    },
    {
     "data": {
      "text/html": [
       "<div>\n",
       "<style scoped>\n",
       "    .dataframe tbody tr th:only-of-type {\n",
       "        vertical-align: middle;\n",
       "    }\n",
       "\n",
       "    .dataframe tbody tr th {\n",
       "        vertical-align: top;\n",
       "    }\n",
       "\n",
       "    .dataframe thead th {\n",
       "        text-align: right;\n",
       "    }\n",
       "</style>\n",
       "<table border=\"1\" class=\"dataframe\">\n",
       "  <thead>\n",
       "    <tr style=\"text-align: right;\">\n",
       "      <th></th>\n",
       "      <th>ObjectId</th>\n",
       "      <th>PermitID</th>\n",
       "      <th>PermitNum</th>\n",
       "      <th>MasterPermitNum</th>\n",
       "      <th>Description</th>\n",
       "      <th>AppliedDate</th>\n",
       "      <th>IssuedDate</th>\n",
       "      <th>CompletedDate</th>\n",
       "      <th>StatusCurrent</th>\n",
       "      <th>OriginalAddress</th>\n",
       "      <th>...</th>\n",
       "      <th>RemovedResSqFt</th>\n",
       "      <th>RemovedNonResSqFt</th>\n",
       "      <th>RemovedParkingStructureSqFt</th>\n",
       "      <th>RemovedDescription</th>\n",
       "      <th>PhotovoltaicKilowatt</th>\n",
       "      <th>PhotovoltaicElecVehicleOffset</th>\n",
       "      <th>ElecVehicleChargeStation</th>\n",
       "      <th>SolarSystemDescription</th>\n",
       "      <th>ContractorCompanyName</th>\n",
       "      <th>ContractorTrade</th>\n",
       "    </tr>\n",
       "  </thead>\n",
       "  <tbody>\n",
       "    <tr>\n",
       "      <th>0</th>\n",
       "      <td>1</td>\n",
       "      <td>c7b157dc-1c6f-4cde-94cf-0d7c46a2a5cb</td>\n",
       "      <td>BLD-SFD2023-00041</td>\n",
       "      <td>NaN</td>\n",
       "      <td>Kitchen remodel (50sf): Removing partition roo...</td>\n",
       "      <td>2/7/2023</td>\n",
       "      <td>NaN</td>\n",
       "      <td>NaN</td>\n",
       "      <td>Received</td>\n",
       "      <td>775 35TH ST</td>\n",
       "      <td>...</td>\n",
       "      <td>NaN</td>\n",
       "      <td>NaN</td>\n",
       "      <td>NaN</td>\n",
       "      <td>NaN</td>\n",
       "      <td>NaN</td>\n",
       "      <td>NaN</td>\n",
       "      <td>NaN</td>\n",
       "      <td>NaN</td>\n",
       "      <td>TECTONIC DESIGN BUILD LLC</td>\n",
       "      <td>Contractor: General</td>\n",
       "    </tr>\n",
       "  </tbody>\n",
       "</table>\n",
       "<p>1 rows × 36 columns</p>\n",
       "</div>"
      ],
      "text/plain": [
       "   ObjectId                              PermitID          PermitNum  \\\n",
       "0         1  c7b157dc-1c6f-4cde-94cf-0d7c46a2a5cb  BLD-SFD2023-00041   \n",
       "\n",
       "  MasterPermitNum                                        Description  \\\n",
       "0             NaN  Kitchen remodel (50sf): Removing partition roo...   \n",
       "\n",
       "  AppliedDate IssuedDate CompletedDate StatusCurrent OriginalAddress  ...  \\\n",
       "0    2/7/2023        NaN           NaN      Received     775 35TH ST  ...   \n",
       "\n",
       "  RemovedResSqFt RemovedNonResSqFt  RemovedParkingStructureSqFt  \\\n",
       "0            NaN               NaN                          NaN   \n",
       "\n",
       "  RemovedDescription PhotovoltaicKilowatt PhotovoltaicElecVehicleOffset  \\\n",
       "0                NaN                  NaN                           NaN   \n",
       "\n",
       "  ElecVehicleChargeStation  SolarSystemDescription      ContractorCompanyName  \\\n",
       "0                      NaN                     NaN  TECTONIC DESIGN BUILD LLC   \n",
       "\n",
       "       ContractorTrade  \n",
       "0  Contractor: General  \n",
       "\n",
       "[1 rows x 36 columns]"
      ]
     },
     "execution_count": 11,
     "metadata": {},
     "output_type": "execute_result"
    }
   ],
   "source": [
    "permits = pd.read_csv('Boulder CO/all_construction_permits.csv')\n",
    "permits.head(1)"
   ]
  },
  {
   "cell_type": "code",
   "execution_count": 13,
   "metadata": {},
   "outputs": [],
   "source": [
    "footprints = pd.read_csv('Boulder CO/Building_Use_and_Square_Footage_Details.csv')\n",
    "#footprints.head(1) \n",
    "#not as useful as the other two. It is a reduced version of the permits file with a focus only on permits with type = Building. But there's less data per permit"
   ]
  },
  {
   "cell_type": "code",
   "execution_count": 22,
   "metadata": {},
   "outputs": [],
   "source": [
    "permit_parcels = permits.merge(parcels, left_on='PIN', right_on='PARCELNUM', how='left')"
   ]
  },
  {
   "cell_type": "code",
   "execution_count": 23,
   "metadata": {},
   "outputs": [
    {
     "data": {
      "text/plain": [
       "ObjectId                         223021\n",
       "PermitID                         223021\n",
       "PermitNum                        223019\n",
       "MasterPermitNum                   23568\n",
       "Description                      124360\n",
       "AppliedDate                        6235\n",
       "IssuedDate                         6367\n",
       "CompletedDate                      5836\n",
       "StatusCurrent                        24\n",
       "OriginalAddress                   38461\n",
       "OriginalCity                          6\n",
       "OriginalState                         1\n",
       "OriginalZip                          13\n",
       "PIN                                 271\n",
       "ProjectName                         629\n",
       "PermitType                           29\n",
       "PermitWorkType                       40\n",
       "EstProjectCost                    34338\n",
       "EstPhotovoltaicCost                3020\n",
       "EstSolarCost                         92\n",
       "NewHousingUnits                      65\n",
       "ExistingHousingUnits                 65\n",
       "AffordableHousingUnits               38\n",
       "RemovedHousingUnits                  18\n",
       "AddedSqFt                          3573\n",
       "RemodeledSqFt                      3553\n",
       "RemovedResSqFt                      745\n",
       "RemovedNonResSqFt                   757\n",
       "RemovedParkingStructureSqFt          32\n",
       "RemovedDescription                    5\n",
       "PhotovoltaicKilowatt               1005\n",
       "PhotovoltaicElecVehicleOffset         1\n",
       "ElecVehicleChargeStation              1\n",
       "SolarSystemDescription                2\n",
       "ContractorCompanyName              8401\n",
       "ContractorTrade                      15\n",
       "OBJECTID                             69\n",
       "ACCOUNTNO                            64\n",
       "PARCELNUM                            63\n",
       "SITEADDRES                           69\n",
       "SITESTRNUM                           40\n",
       "SITESTREET                           12\n",
       "TOWNSHIP                              1\n",
       "geometry                             69\n",
       "dtype: int64"
      ]
     },
     "execution_count": 23,
     "metadata": {},
     "output_type": "execute_result"
    }
   ],
   "source": [
    "permit_parcels.nunique()"
   ]
  }
 ],
 "metadata": {
  "kernelspec": {
   "display_name": "geo_env",
   "language": "python",
   "name": "python3"
  },
  "language_info": {
   "codemirror_mode": {
    "name": "ipython",
    "version": 3
   },
   "file_extension": ".py",
   "mimetype": "text/x-python",
   "name": "python",
   "nbconvert_exporter": "python",
   "pygments_lexer": "ipython3",
   "version": "3.10.2"
  },
  "orig_nbformat": 4
 },
 "nbformat": 4,
 "nbformat_minor": 2
}
