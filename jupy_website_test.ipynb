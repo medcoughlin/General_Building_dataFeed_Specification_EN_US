{
 "cells": [
  {
   "cell_type": "code",
   "execution_count": 1,
   "metadata": {},
   "outputs": [
    {
     "ename": "ModuleNotFoundError",
     "evalue": "No module named 'plotly'",
     "output_type": "error",
     "traceback": [
      "\u001b[1;31m---------------------------------------------------------------------------\u001b[0m",
      "\u001b[1;31mModuleNotFoundError\u001b[0m                       Traceback (most recent call last)",
      "\u001b[1;32m~\\AppData\\Local\\Temp/ipykernel_24392/3681829214.py\u001b[0m in \u001b[0;36m<module>\u001b[1;34m\u001b[0m\n\u001b[1;32m----> 1\u001b[1;33m \u001b[1;32mimport\u001b[0m \u001b[0mplotly\u001b[0m\u001b[1;33m.\u001b[0m\u001b[0mgraph_objects\u001b[0m \u001b[1;32mas\u001b[0m \u001b[0mgo\u001b[0m\u001b[1;33m\u001b[0m\u001b[1;33m\u001b[0m\u001b[0m\n\u001b[0m\u001b[0;32m      2\u001b[0m \u001b[1;32mimport\u001b[0m \u001b[0mpandas\u001b[0m \u001b[1;32mas\u001b[0m \u001b[0mpd\u001b[0m\u001b[1;33m\u001b[0m\u001b[1;33m\u001b[0m\u001b[0m\n\u001b[0;32m      3\u001b[0m \u001b[1;33m\u001b[0m\u001b[0m\n\u001b[0;32m      4\u001b[0m \u001b[1;32mfrom\u001b[0m \u001b[0mflask\u001b[0m \u001b[1;32mimport\u001b[0m \u001b[0mFlask\u001b[0m\u001b[1;33m,\u001b[0m\u001b[0mjsonify\u001b[0m\u001b[1;33m,\u001b[0m\u001b[0mrender_template\u001b[0m\u001b[1;33m,\u001b[0m\u001b[0mredirect\u001b[0m\u001b[1;33m,\u001b[0m \u001b[0mrequest\u001b[0m\u001b[1;33m,\u001b[0m \u001b[0murl_for\u001b[0m\u001b[1;33m,\u001b[0m \u001b[0mflash\u001b[0m\u001b[1;33m,\u001b[0m \u001b[0msend_from_directory\u001b[0m\u001b[1;33m\u001b[0m\u001b[1;33m\u001b[0m\u001b[0m\n\u001b[0;32m      5\u001b[0m \u001b[1;32mimport\u001b[0m \u001b[0mos\u001b[0m\u001b[1;33m,\u001b[0m\u001b[0mrandom\u001b[0m\u001b[1;33m,\u001b[0m\u001b[0mdatetime\u001b[0m\u001b[1;33m\u001b[0m\u001b[1;33m\u001b[0m\u001b[0m\n",
      "\u001b[1;31mModuleNotFoundError\u001b[0m: No module named 'plotly'"
     ]
    }
   ],
   "source": [
    "import plotly.graph_objects as go\n",
    "import pandas as pd\n",
    "\n",
    "from flask import Flask,jsonify,render_template,redirect, request, url_for, flash, send_from_directory\n",
    "import os,random,datetime\n",
    "from werkzeug.utils import secure_filename\n",
    "\n",
    "import math,json\n",
    "from concurrent.futures import ProcessPoolExecutor\n",
    "\n",
    "import plotly\n",
    "import plotly.express as px\n",
    "import pandas as pd"
   ]
  },
  {
   "cell_type": "code",
   "execution_count": null,
   "metadata": {},
   "outputs": [],
   "source": [
    "def create_plotly_figure():\n",
    "# 绘图\n",
    "    fig = go.Figure(data=go.Choropleth(\n",
    "        # locations=df['code'],  # 获取各州编号，设置位置\n",
    "        # z=df['definte'].astype(float),  # 设置填充色数据\n",
    "        locationmode='USA-states',  # 绘制的地图地区\n",
    "        colorscale='Reds',  # 设置基础变化颜色\n",
    "        colorbar_title=\"确诊人数\",\n",
    "        # hovertext=df['state'],  # 显示州名\n",
    "    ))\n",
    "    # 将数据渲染到地图上显示出地图\n",
    "    fig.update_layout(\n",
    "        title_text='USA Cities',\n",
    "        geo_scope='usa'  # 选定美国地图样式\n",
    "        # scope可选有\"world\"，\"usa\"，\"europe\"，\"asia\"，\"africa\"，\"north america\"，\"south america\"\n",
    "    )\n",
    "    # 保存到网页\n",
    "    # fig.write_html('templates/map.html')\n",
    "    return fig"
   ]
  }
 ],
 "metadata": {
  "kernelspec": {
   "display_name": "base",
   "language": "python",
   "name": "python3"
  },
  "language_info": {
   "codemirror_mode": {
    "name": "ipython",
    "version": 3
   },
   "file_extension": ".py",
   "mimetype": "text/x-python",
   "name": "python",
   "nbconvert_exporter": "python",
   "pygments_lexer": "ipython3",
   "version": "3.9.7"
  },
  "orig_nbformat": 4
 },
 "nbformat": 4,
 "nbformat_minor": 2
}
