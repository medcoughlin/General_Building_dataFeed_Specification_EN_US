{
 "cells": [
  {
   "cell_type": "code",
   "execution_count": 2,
   "metadata": {},
   "outputs": [],
   "source": [
    "import pandas as pd\n",
    "import numpy as np\n",
    "import zipfile\n",
    "import matplotlib.pyplot as plt\n",
    "import math\n",
    "import re\n",
    "import datetime\n",
    "from shapely import wkt\n",
    "import urllib\n",
    "import json\n",
    "import csv\n",
    "import requests\n",
    "import jdc"
   ]
  },
  {
   "attachments": {},
   "cell_type": "markdown",
   "metadata": {},
   "source": [
    "THE FOLLOWING IS THE ACTUAL SCHEMA, WHICH WILL BE DEFINED AS A SINGLE DEFINITION"
   ]
  },
  {
   "cell_type": "code",
   "execution_count": 3,
   "metadata": {},
   "outputs": [],
   "source": [
    "class schema:\n",
    "    def __init__(self):\n",
    "        self.__root = None"
   ]
  },
  {
   "cell_type": "code",
   "execution_count": 9,
   "metadata": {},
   "outputs": [],
   "source": [
    "%%add_to schema\n",
    "def geometry(self, permits):\n",
    "    geom_count = 0\n",
    "    \n",
    "    for col in permits.columns:\n",
    "      permits[col] = permits[col].astype(str)\n",
    "      if permits[col].str.contains('POINT').any():\n",
    "        geom_count += 1\n",
    "        geo = col\n",
    "      else: continue\n",
    "    \n",
    "    if geom_count > 1:\n",
    "      raise ValueError('More than one POINT geometry column. Investigate.')\n",
    "    elif geom_count == 1:\n",
    "      permits = permits[permits[geo].notna()]\n",
    "      permits['geometry'] = permits[geo]\n",
    "    \n",
    "      permits['geometry'] = permits['geometry'].replace('nan',None)\n",
    "      permits['geometry'] = permits['geometry'].apply(wkt.loads)\n",
    "    \n",
    "      permits = gpd.GeoDataFrame(permits, geometry = permits['geometry'], crs=4326)\n",
    "      permits['Longitude'] = permits['geometry'].x\n",
    "      permits['Latitude'] = permits['geometry'].y\n",
    "    else:\n",
    "      permits = permits\n",
    "\n",
    "    return permits"
   ]
  }
 ],
 "metadata": {
  "kernelspec": {
   "display_name": "geo_env",
   "language": "python",
   "name": "python3"
  },
  "language_info": {
   "codemirror_mode": {
    "name": "ipython",
    "version": 3
   },
   "file_extension": ".py",
   "mimetype": "text/x-python",
   "name": "python",
   "nbconvert_exporter": "python",
   "pygments_lexer": "ipython3",
   "version": "3.10.2"
  },
  "orig_nbformat": 4
 },
 "nbformat": 4,
 "nbformat_minor": 2
}
